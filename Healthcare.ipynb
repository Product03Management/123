{
 "cells": [
  {
   "cell_type": "code",
   "execution_count": 1,
   "metadata": {},
   "outputs": [
    {
     "data": {
      "text/plain": [
       "'F:\\\\7.2020\\\\Hackathon\\\\Code\\\\7.HealthCare'"
      ]
     },
     "execution_count": 1,
     "metadata": {},
     "output_type": "execute_result"
    }
   ],
   "source": [
    "#Check and Set the Working Diectory:\n",
    "import os\n",
    "os.getcwd()\n",
    "#Change the directory:\n",
    "#os.chdir('F:\\\\7.2020\\\\Hackathon\\\\Code\\\\7.HealthCare')"
   ]
  },
  {
   "cell_type": "raw",
   "metadata": {},
   "source": [
    "* Steps to be followed:\n",
    "    - LOad the Dataset\n",
    "    - Verify it is loaded properly\n",
    "    - Check the attributes types\n",
    "    - Check the Null values\n",
    "    - Drop/Fill the Null Values\n",
    "    - Split into X,y(featurs and labels)\n",
    "    - use Model_selction for train_test_split\n",
    "    - Build the Model"
   ]
  },
  {
   "cell_type": "code",
   "execution_count": 2,
   "metadata": {},
   "outputs": [
    {
     "data": {
      "application/javascript": [
       "\n",
       "        if (window._pyforest_update_imports_cell) { window._pyforest_update_imports_cell('import pandas as pd'); }\n",
       "    "
      ],
      "text/plain": [
       "<IPython.core.display.Javascript object>"
      ]
     },
     "metadata": {},
     "output_type": "display_data"
    },
    {
     "data": {
      "text/html": [
       "<div>\n",
       "<style scoped>\n",
       "    .dataframe tbody tr th:only-of-type {\n",
       "        vertical-align: middle;\n",
       "    }\n",
       "\n",
       "    .dataframe tbody tr th {\n",
       "        vertical-align: top;\n",
       "    }\n",
       "\n",
       "    .dataframe thead th {\n",
       "        text-align: right;\n",
       "    }\n",
       "</style>\n",
       "<table border=\"1\" class=\"dataframe\">\n",
       "  <thead>\n",
       "    <tr style=\"text-align: right;\">\n",
       "      <th></th>\n",
       "      <th>AGE</th>\n",
       "      <th>FEMALE</th>\n",
       "      <th>LOS</th>\n",
       "      <th>RACE</th>\n",
       "      <th>TOTCHG</th>\n",
       "      <th>APRDRG</th>\n",
       "    </tr>\n",
       "  </thead>\n",
       "  <tbody>\n",
       "    <tr>\n",
       "      <th>0</th>\n",
       "      <td>17</td>\n",
       "      <td>1</td>\n",
       "      <td>2</td>\n",
       "      <td>1.0</td>\n",
       "      <td>2660</td>\n",
       "      <td>560</td>\n",
       "    </tr>\n",
       "    <tr>\n",
       "      <th>1</th>\n",
       "      <td>17</td>\n",
       "      <td>0</td>\n",
       "      <td>2</td>\n",
       "      <td>1.0</td>\n",
       "      <td>1689</td>\n",
       "      <td>753</td>\n",
       "    </tr>\n",
       "    <tr>\n",
       "      <th>2</th>\n",
       "      <td>17</td>\n",
       "      <td>1</td>\n",
       "      <td>7</td>\n",
       "      <td>1.0</td>\n",
       "      <td>20060</td>\n",
       "      <td>930</td>\n",
       "    </tr>\n",
       "    <tr>\n",
       "      <th>3</th>\n",
       "      <td>17</td>\n",
       "      <td>1</td>\n",
       "      <td>1</td>\n",
       "      <td>1.0</td>\n",
       "      <td>736</td>\n",
       "      <td>758</td>\n",
       "    </tr>\n",
       "    <tr>\n",
       "      <th>4</th>\n",
       "      <td>17</td>\n",
       "      <td>1</td>\n",
       "      <td>1</td>\n",
       "      <td>1.0</td>\n",
       "      <td>1194</td>\n",
       "      <td>754</td>\n",
       "    </tr>\n",
       "  </tbody>\n",
       "</table>\n",
       "</div>"
      ],
      "text/plain": [
       "   AGE  FEMALE  LOS  RACE  TOTCHG  APRDRG\n",
       "0   17       1    2   1.0    2660     560\n",
       "1   17       0    2   1.0    1689     753\n",
       "2   17       1    7   1.0   20060     930\n",
       "3   17       1    1   1.0     736     758\n",
       "4   17       1    1   1.0    1194     754"
      ]
     },
     "execution_count": 2,
     "metadata": {},
     "output_type": "execute_result"
    }
   ],
   "source": [
    "#load the dataset:\n",
    "data =pd.read_excel(\"Hospitalcosts.xlsx\")\n",
    "data.head()"
   ]
  },
  {
   "cell_type": "code",
   "execution_count": 3,
   "metadata": {},
   "outputs": [
    {
     "data": {
      "text/html": [
       "<div>\n",
       "<style scoped>\n",
       "    .dataframe tbody tr th:only-of-type {\n",
       "        vertical-align: middle;\n",
       "    }\n",
       "\n",
       "    .dataframe tbody tr th {\n",
       "        vertical-align: top;\n",
       "    }\n",
       "\n",
       "    .dataframe thead th {\n",
       "        text-align: right;\n",
       "    }\n",
       "</style>\n",
       "<table border=\"1\" class=\"dataframe\">\n",
       "  <thead>\n",
       "    <tr style=\"text-align: right;\">\n",
       "      <th></th>\n",
       "      <th>AGE</th>\n",
       "      <th>FEMALE</th>\n",
       "      <th>LOS</th>\n",
       "      <th>RACE</th>\n",
       "      <th>TOTCHG</th>\n",
       "      <th>APRDRG</th>\n",
       "    </tr>\n",
       "  </thead>\n",
       "  <tbody>\n",
       "    <tr>\n",
       "      <th>495</th>\n",
       "      <td>0</td>\n",
       "      <td>1</td>\n",
       "      <td>6</td>\n",
       "      <td>1.0</td>\n",
       "      <td>5881</td>\n",
       "      <td>636</td>\n",
       "    </tr>\n",
       "    <tr>\n",
       "      <th>496</th>\n",
       "      <td>0</td>\n",
       "      <td>1</td>\n",
       "      <td>2</td>\n",
       "      <td>1.0</td>\n",
       "      <td>1171</td>\n",
       "      <td>640</td>\n",
       "    </tr>\n",
       "    <tr>\n",
       "      <th>497</th>\n",
       "      <td>0</td>\n",
       "      <td>1</td>\n",
       "      <td>2</td>\n",
       "      <td>1.0</td>\n",
       "      <td>1171</td>\n",
       "      <td>640</td>\n",
       "    </tr>\n",
       "    <tr>\n",
       "      <th>498</th>\n",
       "      <td>0</td>\n",
       "      <td>1</td>\n",
       "      <td>2</td>\n",
       "      <td>1.0</td>\n",
       "      <td>1086</td>\n",
       "      <td>640</td>\n",
       "    </tr>\n",
       "    <tr>\n",
       "      <th>499</th>\n",
       "      <td>0</td>\n",
       "      <td>0</td>\n",
       "      <td>4</td>\n",
       "      <td>1.0</td>\n",
       "      <td>4931</td>\n",
       "      <td>640</td>\n",
       "    </tr>\n",
       "  </tbody>\n",
       "</table>\n",
       "</div>"
      ],
      "text/plain": [
       "     AGE  FEMALE  LOS  RACE  TOTCHG  APRDRG\n",
       "495    0       1    6   1.0    5881     636\n",
       "496    0       1    2   1.0    1171     640\n",
       "497    0       1    2   1.0    1171     640\n",
       "498    0       1    2   1.0    1086     640\n",
       "499    0       0    4   1.0    4931     640"
      ]
     },
     "execution_count": 3,
     "metadata": {},
     "output_type": "execute_result"
    }
   ],
   "source": [
    "data.tail()"
   ]
  },
  {
   "cell_type": "code",
   "execution_count": 4,
   "metadata": {},
   "outputs": [
    {
     "data": {
      "text/plain": [
       "Index(['AGE', 'FEMALE', 'LOS', 'RACE', 'TOTCHG', 'APRDRG'], dtype='object')"
      ]
     },
     "execution_count": 4,
     "metadata": {},
     "output_type": "execute_result"
    }
   ],
   "source": [
    "#Check the column names:\n",
    "data.columns"
   ]
  },
  {
   "cell_type": "code",
   "execution_count": 5,
   "metadata": {},
   "outputs": [
    {
     "data": {
      "text/plain": [
       "(500, 6)"
      ]
     },
     "execution_count": 5,
     "metadata": {},
     "output_type": "execute_result"
    }
   ],
   "source": [
    "#Check the dimension of the data:\n",
    "data.shape"
   ]
  },
  {
   "cell_type": "code",
   "execution_count": 6,
   "metadata": {},
   "outputs": [
    {
     "data": {
      "text/plain": [
       "AGE       0\n",
       "FEMALE    0\n",
       "LOS       0\n",
       "RACE      1\n",
       "TOTCHG    0\n",
       "APRDRG    0\n",
       "dtype: int64"
      ]
     },
     "execution_count": 6,
     "metadata": {},
     "output_type": "execute_result"
    }
   ],
   "source": [
    "#Check the the Null Values:\n",
    "data.isna().sum()"
   ]
  },
  {
   "cell_type": "code",
   "execution_count": 7,
   "metadata": {},
   "outputs": [
    {
     "name": "stdout",
     "output_type": "stream",
     "text": [
      "The New Dimesnion after dropping the NaN is (499, 6)\n"
     ]
    }
   ],
   "source": [
    "#Drop the NA values:\n",
    "data.dropna(inplace=True)\n",
    "print(\"The New Dimesnion after dropping the NaN is {}\".format(data.shape))"
   ]
  },
  {
   "cell_type": "code",
   "execution_count": 8,
   "metadata": {},
   "outputs": [
    {
     "data": {
      "text/plain": [
       "AGE       0\n",
       "FEMALE    0\n",
       "LOS       0\n",
       "RACE      0\n",
       "TOTCHG    0\n",
       "APRDRG    0\n",
       "dtype: int64"
      ]
     },
     "execution_count": 8,
     "metadata": {},
     "output_type": "execute_result"
    }
   ],
   "source": [
    "#Check the NaN Values:\n",
    "data.isna().sum()"
   ]
  },
  {
   "cell_type": "code",
   "execution_count": 9,
   "metadata": {},
   "outputs": [],
   "source": [
    "#Reset the index:\n",
    "data = data.reset_index()"
   ]
  },
  {
   "cell_type": "code",
   "execution_count": 10,
   "metadata": {},
   "outputs": [],
   "source": [
    "#AGE:     Age of the patient discharged\n",
    "#FEMALE:- A biary Value shows female\n",
    "#LOS:-    Length of stays in days\n",
    "#Race:-   Race of the patients(Specified Numerically)\n",
    "#Totchg:- Hospital Discharge\n",
    "#Aprdrg:- All Patient Refined Diagnosis Related Groups"
   ]
  },
  {
   "cell_type": "code",
   "execution_count": 11,
   "metadata": {},
   "outputs": [],
   "source": [
    "#Totchg:- It is the Target column."
   ]
  },
  {
   "cell_type": "code",
   "execution_count": 12,
   "metadata": {},
   "outputs": [
    {
     "data": {
      "text/plain": [
       "index       int64\n",
       "AGE         int64\n",
       "FEMALE      int64\n",
       "LOS         int64\n",
       "RACE      float64\n",
       "TOTCHG      int64\n",
       "APRDRG      int64\n",
       "dtype: object"
      ]
     },
     "execution_count": 12,
     "metadata": {},
     "output_type": "execute_result"
    }
   ],
   "source": [
    "#Check the data types:\n",
    "data.dtypes"
   ]
  },
  {
   "cell_type": "code",
   "execution_count": 13,
   "metadata": {},
   "outputs": [],
   "source": [
    "#####"
   ]
  },
  {
   "cell_type": "code",
   "execution_count": 14,
   "metadata": {},
   "outputs": [],
   "source": [
    "#Case1: We keep this value as Number only:\n",
    "#RACE MUst be converted into Object because it has 6 distinct Values Higher Values\n",
    "#would be getting More importance and lower values gtting less but that data is not stroed in that way\n",
    "#data[\"RACE\"] = (data[\"RACE\"]).astype(str)\n",
    "#data.dtypes"
   ]
  },
  {
   "cell_type": "code",
   "execution_count": 15,
   "metadata": {},
   "outputs": [
    {
     "name": "stdout",
     "output_type": "stream",
     "text": [
      "The data set has dimesnion of(499, 7)\n"
     ]
    }
   ],
   "source": [
    "#Shape the dataset:\n",
    "print(\"The data set has dimesnion of{}\".format(data.shape))"
   ]
  },
  {
   "cell_type": "code",
   "execution_count": 16,
   "metadata": {},
   "outputs": [],
   "source": [
    "#len(data.columns)\n",
    "#len(data)"
   ]
  },
  {
   "cell_type": "code",
   "execution_count": 17,
   "metadata": {},
   "outputs": [
    {
     "data": {
      "text/html": [
       "<div>\n",
       "<style scoped>\n",
       "    .dataframe tbody tr th:only-of-type {\n",
       "        vertical-align: middle;\n",
       "    }\n",
       "\n",
       "    .dataframe tbody tr th {\n",
       "        vertical-align: top;\n",
       "    }\n",
       "\n",
       "    .dataframe thead th {\n",
       "        text-align: right;\n",
       "    }\n",
       "</style>\n",
       "<table border=\"1\" class=\"dataframe\">\n",
       "  <thead>\n",
       "    <tr style=\"text-align: right;\">\n",
       "      <th></th>\n",
       "      <th>index</th>\n",
       "      <th>AGE</th>\n",
       "      <th>FEMALE</th>\n",
       "      <th>LOS</th>\n",
       "      <th>RACE</th>\n",
       "      <th>TOTCHG</th>\n",
       "      <th>APRDRG</th>\n",
       "    </tr>\n",
       "  </thead>\n",
       "  <tbody>\n",
       "    <tr>\n",
       "      <th>count</th>\n",
       "      <td>499.000000</td>\n",
       "      <td>499.000000</td>\n",
       "      <td>499.000000</td>\n",
       "      <td>499.000000</td>\n",
       "      <td>499.000000</td>\n",
       "      <td>499.000000</td>\n",
       "      <td>499.000000</td>\n",
       "    </tr>\n",
       "    <tr>\n",
       "      <th>mean</th>\n",
       "      <td>249.446894</td>\n",
       "      <td>5.096192</td>\n",
       "      <td>0.511022</td>\n",
       "      <td>2.829659</td>\n",
       "      <td>1.078156</td>\n",
       "      <td>2777.631263</td>\n",
       "      <td>616.312625</td>\n",
       "    </tr>\n",
       "    <tr>\n",
       "      <th>std</th>\n",
       "      <td>144.621937</td>\n",
       "      <td>6.952706</td>\n",
       "      <td>0.500380</td>\n",
       "      <td>3.366657</td>\n",
       "      <td>0.514746</td>\n",
       "      <td>3891.632405</td>\n",
       "      <td>178.491837</td>\n",
       "    </tr>\n",
       "    <tr>\n",
       "      <th>min</th>\n",
       "      <td>0.000000</td>\n",
       "      <td>0.000000</td>\n",
       "      <td>0.000000</td>\n",
       "      <td>0.000000</td>\n",
       "      <td>1.000000</td>\n",
       "      <td>532.000000</td>\n",
       "      <td>21.000000</td>\n",
       "    </tr>\n",
       "    <tr>\n",
       "      <th>25%</th>\n",
       "      <td>124.500000</td>\n",
       "      <td>0.000000</td>\n",
       "      <td>0.000000</td>\n",
       "      <td>2.000000</td>\n",
       "      <td>1.000000</td>\n",
       "      <td>1218.500000</td>\n",
       "      <td>640.000000</td>\n",
       "    </tr>\n",
       "    <tr>\n",
       "      <th>50%</th>\n",
       "      <td>249.000000</td>\n",
       "      <td>0.000000</td>\n",
       "      <td>1.000000</td>\n",
       "      <td>2.000000</td>\n",
       "      <td>1.000000</td>\n",
       "      <td>1538.000000</td>\n",
       "      <td>640.000000</td>\n",
       "    </tr>\n",
       "    <tr>\n",
       "      <th>75%</th>\n",
       "      <td>374.500000</td>\n",
       "      <td>13.000000</td>\n",
       "      <td>1.000000</td>\n",
       "      <td>3.000000</td>\n",
       "      <td>1.000000</td>\n",
       "      <td>2530.500000</td>\n",
       "      <td>751.000000</td>\n",
       "    </tr>\n",
       "    <tr>\n",
       "      <th>max</th>\n",
       "      <td>499.000000</td>\n",
       "      <td>17.000000</td>\n",
       "      <td>1.000000</td>\n",
       "      <td>41.000000</td>\n",
       "      <td>6.000000</td>\n",
       "      <td>48388.000000</td>\n",
       "      <td>952.000000</td>\n",
       "    </tr>\n",
       "  </tbody>\n",
       "</table>\n",
       "</div>"
      ],
      "text/plain": [
       "            index         AGE      FEMALE         LOS        RACE  \\\n",
       "count  499.000000  499.000000  499.000000  499.000000  499.000000   \n",
       "mean   249.446894    5.096192    0.511022    2.829659    1.078156   \n",
       "std    144.621937    6.952706    0.500380    3.366657    0.514746   \n",
       "min      0.000000    0.000000    0.000000    0.000000    1.000000   \n",
       "25%    124.500000    0.000000    0.000000    2.000000    1.000000   \n",
       "50%    249.000000    0.000000    1.000000    2.000000    1.000000   \n",
       "75%    374.500000   13.000000    1.000000    3.000000    1.000000   \n",
       "max    499.000000   17.000000    1.000000   41.000000    6.000000   \n",
       "\n",
       "             TOTCHG      APRDRG  \n",
       "count    499.000000  499.000000  \n",
       "mean    2777.631263  616.312625  \n",
       "std     3891.632405  178.491837  \n",
       "min      532.000000   21.000000  \n",
       "25%     1218.500000  640.000000  \n",
       "50%     1538.000000  640.000000  \n",
       "75%     2530.500000  751.000000  \n",
       "max    48388.000000  952.000000  "
      ]
     },
     "execution_count": 17,
     "metadata": {},
     "output_type": "execute_result"
    }
   ],
   "source": [
    "#Describe the datatype:\n",
    "data.describe(include=\"all\")"
   ]
  },
  {
   "cell_type": "code",
   "execution_count": 18,
   "metadata": {},
   "outputs": [
    {
     "data": {
      "text/html": [
       "<div>\n",
       "<style scoped>\n",
       "    .dataframe tbody tr th:only-of-type {\n",
       "        vertical-align: middle;\n",
       "    }\n",
       "\n",
       "    .dataframe tbody tr th {\n",
       "        vertical-align: top;\n",
       "    }\n",
       "\n",
       "    .dataframe thead th {\n",
       "        text-align: right;\n",
       "    }\n",
       "</style>\n",
       "<table border=\"1\" class=\"dataframe\">\n",
       "  <thead>\n",
       "    <tr style=\"text-align: right;\">\n",
       "      <th></th>\n",
       "      <th>index</th>\n",
       "      <th>AGE</th>\n",
       "      <th>FEMALE</th>\n",
       "      <th>LOS</th>\n",
       "      <th>TOTCHG</th>\n",
       "      <th>APRDRG</th>\n",
       "    </tr>\n",
       "  </thead>\n",
       "  <tbody>\n",
       "    <tr>\n",
       "      <th>count</th>\n",
       "      <td>499.000000</td>\n",
       "      <td>499.000000</td>\n",
       "      <td>499.000000</td>\n",
       "      <td>499.000000</td>\n",
       "      <td>499.000000</td>\n",
       "      <td>499.000000</td>\n",
       "    </tr>\n",
       "    <tr>\n",
       "      <th>mean</th>\n",
       "      <td>249.446894</td>\n",
       "      <td>5.096192</td>\n",
       "      <td>0.511022</td>\n",
       "      <td>2.829659</td>\n",
       "      <td>2777.631263</td>\n",
       "      <td>616.312625</td>\n",
       "    </tr>\n",
       "    <tr>\n",
       "      <th>std</th>\n",
       "      <td>144.621937</td>\n",
       "      <td>6.952706</td>\n",
       "      <td>0.500380</td>\n",
       "      <td>3.366657</td>\n",
       "      <td>3891.632405</td>\n",
       "      <td>178.491837</td>\n",
       "    </tr>\n",
       "    <tr>\n",
       "      <th>min</th>\n",
       "      <td>0.000000</td>\n",
       "      <td>0.000000</td>\n",
       "      <td>0.000000</td>\n",
       "      <td>0.000000</td>\n",
       "      <td>532.000000</td>\n",
       "      <td>21.000000</td>\n",
       "    </tr>\n",
       "    <tr>\n",
       "      <th>25%</th>\n",
       "      <td>124.500000</td>\n",
       "      <td>0.000000</td>\n",
       "      <td>0.000000</td>\n",
       "      <td>2.000000</td>\n",
       "      <td>1218.500000</td>\n",
       "      <td>640.000000</td>\n",
       "    </tr>\n",
       "    <tr>\n",
       "      <th>50%</th>\n",
       "      <td>249.000000</td>\n",
       "      <td>0.000000</td>\n",
       "      <td>1.000000</td>\n",
       "      <td>2.000000</td>\n",
       "      <td>1538.000000</td>\n",
       "      <td>640.000000</td>\n",
       "    </tr>\n",
       "    <tr>\n",
       "      <th>75%</th>\n",
       "      <td>374.500000</td>\n",
       "      <td>13.000000</td>\n",
       "      <td>1.000000</td>\n",
       "      <td>3.000000</td>\n",
       "      <td>2530.500000</td>\n",
       "      <td>751.000000</td>\n",
       "    </tr>\n",
       "    <tr>\n",
       "      <th>max</th>\n",
       "      <td>499.000000</td>\n",
       "      <td>17.000000</td>\n",
       "      <td>1.000000</td>\n",
       "      <td>41.000000</td>\n",
       "      <td>48388.000000</td>\n",
       "      <td>952.000000</td>\n",
       "    </tr>\n",
       "  </tbody>\n",
       "</table>\n",
       "</div>"
      ],
      "text/plain": [
       "            index         AGE      FEMALE         LOS        TOTCHG  \\\n",
       "count  499.000000  499.000000  499.000000  499.000000    499.000000   \n",
       "mean   249.446894    5.096192    0.511022    2.829659   2777.631263   \n",
       "std    144.621937    6.952706    0.500380    3.366657   3891.632405   \n",
       "min      0.000000    0.000000    0.000000    0.000000    532.000000   \n",
       "25%    124.500000    0.000000    0.000000    2.000000   1218.500000   \n",
       "50%    249.000000    0.000000    1.000000    2.000000   1538.000000   \n",
       "75%    374.500000   13.000000    1.000000    3.000000   2530.500000   \n",
       "max    499.000000   17.000000    1.000000   41.000000  48388.000000   \n",
       "\n",
       "           APRDRG  \n",
       "count  499.000000  \n",
       "mean   616.312625  \n",
       "std    178.491837  \n",
       "min     21.000000  \n",
       "25%    640.000000  \n",
       "50%    640.000000  \n",
       "75%    751.000000  \n",
       "max    952.000000  "
      ]
     },
     "execution_count": 18,
     "metadata": {},
     "output_type": "execute_result"
    }
   ],
   "source": [
    "#Describe the numerical datatype for \"int64\":\n",
    "data.describe(include=[\"int64\"])"
   ]
  },
  {
   "cell_type": "code",
   "execution_count": 19,
   "metadata": {},
   "outputs": [],
   "source": [
    "#Describe the numerical datatype:\n",
    "#data.describe(include=[\"object\"])"
   ]
  },
  {
   "cell_type": "code",
   "execution_count": 20,
   "metadata": {},
   "outputs": [
    {
     "data": {
      "text/plain": [
       "Index(['index', 'AGE', 'FEMALE', 'LOS', 'RACE', 'TOTCHG', 'APRDRG'], dtype='object')"
      ]
     },
     "execution_count": 20,
     "metadata": {},
     "output_type": "execute_result"
    }
   ],
   "source": [
    "#Now find the \"Target\" column for this dataset:\n",
    "data.columns"
   ]
  },
  {
   "cell_type": "code",
   "execution_count": 21,
   "metadata": {},
   "outputs": [
    {
     "data": {
      "text/html": [
       "<div>\n",
       "<style scoped>\n",
       "    .dataframe tbody tr th:only-of-type {\n",
       "        vertical-align: middle;\n",
       "    }\n",
       "\n",
       "    .dataframe tbody tr th {\n",
       "        vertical-align: top;\n",
       "    }\n",
       "\n",
       "    .dataframe thead th {\n",
       "        text-align: right;\n",
       "    }\n",
       "</style>\n",
       "<table border=\"1\" class=\"dataframe\">\n",
       "  <thead>\n",
       "    <tr style=\"text-align: right;\">\n",
       "      <th></th>\n",
       "      <th>index</th>\n",
       "      <th>AGE</th>\n",
       "      <th>FEMALE</th>\n",
       "      <th>LOS</th>\n",
       "      <th>RACE</th>\n",
       "      <th>APRDRG</th>\n",
       "    </tr>\n",
       "  </thead>\n",
       "  <tbody>\n",
       "    <tr>\n",
       "      <th>0</th>\n",
       "      <td>0</td>\n",
       "      <td>17</td>\n",
       "      <td>1</td>\n",
       "      <td>2</td>\n",
       "      <td>1.0</td>\n",
       "      <td>560</td>\n",
       "    </tr>\n",
       "    <tr>\n",
       "      <th>1</th>\n",
       "      <td>1</td>\n",
       "      <td>17</td>\n",
       "      <td>0</td>\n",
       "      <td>2</td>\n",
       "      <td>1.0</td>\n",
       "      <td>753</td>\n",
       "    </tr>\n",
       "    <tr>\n",
       "      <th>2</th>\n",
       "      <td>2</td>\n",
       "      <td>17</td>\n",
       "      <td>1</td>\n",
       "      <td>7</td>\n",
       "      <td>1.0</td>\n",
       "      <td>930</td>\n",
       "    </tr>\n",
       "    <tr>\n",
       "      <th>3</th>\n",
       "      <td>3</td>\n",
       "      <td>17</td>\n",
       "      <td>1</td>\n",
       "      <td>1</td>\n",
       "      <td>1.0</td>\n",
       "      <td>758</td>\n",
       "    </tr>\n",
       "    <tr>\n",
       "      <th>4</th>\n",
       "      <td>4</td>\n",
       "      <td>17</td>\n",
       "      <td>1</td>\n",
       "      <td>1</td>\n",
       "      <td>1.0</td>\n",
       "      <td>754</td>\n",
       "    </tr>\n",
       "  </tbody>\n",
       "</table>\n",
       "</div>"
      ],
      "text/plain": [
       "   index  AGE  FEMALE  LOS  RACE  APRDRG\n",
       "0      0   17       1    2   1.0     560\n",
       "1      1   17       0    2   1.0     753\n",
       "2      2   17       1    7   1.0     930\n",
       "3      3   17       1    1   1.0     758\n",
       "4      4   17       1    1   1.0     754"
      ]
     },
     "execution_count": 21,
     "metadata": {},
     "output_type": "execute_result"
    }
   ],
   "source": [
    "#TOTCHG:is the Target column\n",
    "X = data.drop(\"TOTCHG\",axis=1)\n",
    "X.head()"
   ]
  },
  {
   "cell_type": "code",
   "execution_count": 22,
   "metadata": {},
   "outputs": [
    {
     "data": {
      "text/html": [
       "<div>\n",
       "<style scoped>\n",
       "    .dataframe tbody tr th:only-of-type {\n",
       "        vertical-align: middle;\n",
       "    }\n",
       "\n",
       "    .dataframe tbody tr th {\n",
       "        vertical-align: top;\n",
       "    }\n",
       "\n",
       "    .dataframe thead th {\n",
       "        text-align: right;\n",
       "    }\n",
       "</style>\n",
       "<table border=\"1\" class=\"dataframe\">\n",
       "  <thead>\n",
       "    <tr style=\"text-align: right;\">\n",
       "      <th></th>\n",
       "      <th>TOTCHG</th>\n",
       "    </tr>\n",
       "  </thead>\n",
       "  <tbody>\n",
       "    <tr>\n",
       "      <th>0</th>\n",
       "      <td>2660</td>\n",
       "    </tr>\n",
       "    <tr>\n",
       "      <th>1</th>\n",
       "      <td>1689</td>\n",
       "    </tr>\n",
       "    <tr>\n",
       "      <th>2</th>\n",
       "      <td>20060</td>\n",
       "    </tr>\n",
       "    <tr>\n",
       "      <th>3</th>\n",
       "      <td>736</td>\n",
       "    </tr>\n",
       "    <tr>\n",
       "      <th>4</th>\n",
       "      <td>1194</td>\n",
       "    </tr>\n",
       "  </tbody>\n",
       "</table>\n",
       "</div>"
      ],
      "text/plain": [
       "   TOTCHG\n",
       "0    2660\n",
       "1    1689\n",
       "2   20060\n",
       "3     736\n",
       "4    1194"
      ]
     },
     "execution_count": 22,
     "metadata": {},
     "output_type": "execute_result"
    }
   ],
   "source": [
    "#This is the Target:\n",
    "y = data[[\"TOTCHG\"]]\n",
    "y.head()"
   ]
  },
  {
   "cell_type": "code",
   "execution_count": 23,
   "metadata": {},
   "outputs": [],
   "source": [
    "#Split the data into train(75%) and test(25%):\n",
    "from sklearn.model_selection import train_test_split\n",
    "X_train,X_test,y_train,y_test = train_test_split(X,y,test_size=0.25,random_state = 100)"
   ]
  },
  {
   "cell_type": "code",
   "execution_count": 24,
   "metadata": {},
   "outputs": [
    {
     "data": {
      "text/plain": [
       "LinearRegression()"
      ]
     },
     "execution_count": 24,
     "metadata": {},
     "output_type": "execute_result"
    }
   ],
   "source": [
    "#Build the regression modelling:\n",
    "from sklearn.linear_model import LinearRegression\n",
    "lr = LinearRegression()\n",
    "#Train the Model:\n",
    "lr.fit(X_train,y_train)"
   ]
  },
  {
   "cell_type": "code",
   "execution_count": 25,
   "metadata": {},
   "outputs": [],
   "source": [
    "#Predict on train:\n",
    "pred_train_lr = lr.predict(X_train)\n",
    "#Predict on test:\n",
    "pred_test_lr = lr.predict(X_test)"
   ]
  },
  {
   "cell_type": "code",
   "execution_count": 26,
   "metadata": {},
   "outputs": [],
   "source": [
    "#Check the result:\n",
    "#It is the metric which decides the result:\n",
    "from sklearn.metrics import mean_absolute_error,mean_squared_error,mean_squared_log_error\n"
   ]
  },
  {
   "cell_type": "code",
   "execution_count": 27,
   "metadata": {},
   "outputs": [
    {
     "name": "stdout",
     "output_type": "stream",
     "text": [
      "Mean Absolute Error:\n",
      "873.6358615294104\n",
      "1212.3070559418218\n"
     ]
    }
   ],
   "source": [
    "print(\"Mean Absolute Error:\")\n",
    "print(mean_absolute_error(y_train,pred_train_lr))\n",
    "print(mean_absolute_error(y_test,pred_test_lr))"
   ]
  },
  {
   "cell_type": "code",
   "execution_count": 28,
   "metadata": {},
   "outputs": [
    {
     "name": "stdout",
     "output_type": "stream",
     "text": [
      "Mean Squared Error:\n",
      "3081192.173595695\n",
      "18011965.049535684\n"
     ]
    }
   ],
   "source": [
    "print(\"Mean Squared Error:\")\n",
    "print(mean_squared_error(y_train,pred_train_lr))\n",
    "print(mean_squared_error(y_test,pred_test_lr))"
   ]
  },
  {
   "cell_type": "code",
   "execution_count": 29,
   "metadata": {},
   "outputs": [
    {
     "name": "stdout",
     "output_type": "stream",
     "text": [
      "763239.618550235\n"
     ]
    }
   ],
   "source": [
    "print(873.6358615294104*873.6358615294104)"
   ]
  },
  {
   "cell_type": "code",
   "execution_count": 30,
   "metadata": {},
   "outputs": [
    {
     "data": {
      "text/html": [
       "<div>\n",
       "<style scoped>\n",
       "    .dataframe tbody tr th:only-of-type {\n",
       "        vertical-align: middle;\n",
       "    }\n",
       "\n",
       "    .dataframe tbody tr th {\n",
       "        vertical-align: top;\n",
       "    }\n",
       "\n",
       "    .dataframe thead th {\n",
       "        text-align: right;\n",
       "    }\n",
       "</style>\n",
       "<table border=\"1\" class=\"dataframe\">\n",
       "  <thead>\n",
       "    <tr style=\"text-align: right;\">\n",
       "      <th></th>\n",
       "      <th>TOTCHG</th>\n",
       "    </tr>\n",
       "  </thead>\n",
       "  <tbody>\n",
       "    <tr>\n",
       "      <th>219</th>\n",
       "      <td>-39.441755</td>\n",
       "    </tr>\n",
       "    <tr>\n",
       "      <th>390</th>\n",
       "      <td>409.023290</td>\n",
       "    </tr>\n",
       "    <tr>\n",
       "      <th>349</th>\n",
       "      <td>2628.204812</td>\n",
       "    </tr>\n",
       "    <tr>\n",
       "      <th>19</th>\n",
       "      <td>722.639407</td>\n",
       "    </tr>\n",
       "    <tr>\n",
       "      <th>479</th>\n",
       "      <td>96.219345</td>\n",
       "    </tr>\n",
       "    <tr>\n",
       "      <th>...</th>\n",
       "      <td>...</td>\n",
       "    </tr>\n",
       "    <tr>\n",
       "      <th>343</th>\n",
       "      <td>573.207647</td>\n",
       "    </tr>\n",
       "    <tr>\n",
       "      <th>359</th>\n",
       "      <td>-292.652964</td>\n",
       "    </tr>\n",
       "    <tr>\n",
       "      <th>323</th>\n",
       "      <td>2479.474903</td>\n",
       "    </tr>\n",
       "    <tr>\n",
       "      <th>280</th>\n",
       "      <td>-201.089249</td>\n",
       "    </tr>\n",
       "    <tr>\n",
       "      <th>8</th>\n",
       "      <td>854.387609</td>\n",
       "    </tr>\n",
       "  </tbody>\n",
       "</table>\n",
       "<p>374 rows × 1 columns</p>\n",
       "</div>"
      ],
      "text/plain": [
       "          TOTCHG\n",
       "219   -39.441755\n",
       "390   409.023290\n",
       "349  2628.204812\n",
       "19    722.639407\n",
       "479    96.219345\n",
       "..           ...\n",
       "343   573.207647\n",
       "359  -292.652964\n",
       "323  2479.474903\n",
       "280  -201.089249\n",
       "8     854.387609\n",
       "\n",
       "[374 rows x 1 columns]"
      ]
     },
     "execution_count": 30,
     "metadata": {},
     "output_type": "execute_result"
    }
   ],
   "source": [
    "(pred_train_lr-y_train)"
   ]
  },
  {
   "cell_type": "code",
   "execution_count": 31,
   "metadata": {},
   "outputs": [
    {
     "data": {
      "application/javascript": [
       "\n",
       "        if (window._pyforest_update_imports_cell) { window._pyforest_update_imports_cell('import pandas as pd\\nimport numpy as np'); }\n",
       "    "
      ],
      "text/plain": [
       "<IPython.core.display.Javascript object>"
      ]
     },
     "metadata": {},
     "output_type": "display_data"
    },
    {
     "data": {
      "text/html": [
       "<div>\n",
       "<style scoped>\n",
       "    .dataframe tbody tr th:only-of-type {\n",
       "        vertical-align: middle;\n",
       "    }\n",
       "\n",
       "    .dataframe tbody tr th {\n",
       "        vertical-align: top;\n",
       "    }\n",
       "\n",
       "    .dataframe thead th {\n",
       "        text-align: right;\n",
       "    }\n",
       "</style>\n",
       "<table border=\"1\" class=\"dataframe\">\n",
       "  <thead>\n",
       "    <tr style=\"text-align: right;\">\n",
       "      <th></th>\n",
       "      <th>TOTCHG</th>\n",
       "    </tr>\n",
       "  </thead>\n",
       "  <tbody>\n",
       "    <tr>\n",
       "      <th>219</th>\n",
       "      <td>39.441755</td>\n",
       "    </tr>\n",
       "    <tr>\n",
       "      <th>390</th>\n",
       "      <td>409.023290</td>\n",
       "    </tr>\n",
       "    <tr>\n",
       "      <th>349</th>\n",
       "      <td>2628.204812</td>\n",
       "    </tr>\n",
       "    <tr>\n",
       "      <th>19</th>\n",
       "      <td>722.639407</td>\n",
       "    </tr>\n",
       "    <tr>\n",
       "      <th>479</th>\n",
       "      <td>96.219345</td>\n",
       "    </tr>\n",
       "    <tr>\n",
       "      <th>...</th>\n",
       "      <td>...</td>\n",
       "    </tr>\n",
       "    <tr>\n",
       "      <th>343</th>\n",
       "      <td>573.207647</td>\n",
       "    </tr>\n",
       "    <tr>\n",
       "      <th>359</th>\n",
       "      <td>292.652964</td>\n",
       "    </tr>\n",
       "    <tr>\n",
       "      <th>323</th>\n",
       "      <td>2479.474903</td>\n",
       "    </tr>\n",
       "    <tr>\n",
       "      <th>280</th>\n",
       "      <td>201.089249</td>\n",
       "    </tr>\n",
       "    <tr>\n",
       "      <th>8</th>\n",
       "      <td>854.387609</td>\n",
       "    </tr>\n",
       "  </tbody>\n",
       "</table>\n",
       "<p>374 rows × 1 columns</p>\n",
       "</div>"
      ],
      "text/plain": [
       "          TOTCHG\n",
       "219    39.441755\n",
       "390   409.023290\n",
       "349  2628.204812\n",
       "19    722.639407\n",
       "479    96.219345\n",
       "..           ...\n",
       "343   573.207647\n",
       "359   292.652964\n",
       "323  2479.474903\n",
       "280   201.089249\n",
       "8     854.387609\n",
       "\n",
       "[374 rows x 1 columns]"
      ]
     },
     "execution_count": 31,
     "metadata": {},
     "output_type": "execute_result"
    }
   ],
   "source": [
    "np.absolute(pred_train_lr-y_train)"
   ]
  },
  {
   "cell_type": "code",
   "execution_count": 32,
   "metadata": {},
   "outputs": [],
   "source": [
    "#############################"
   ]
  },
  {
   "cell_type": "code",
   "execution_count": 33,
   "metadata": {},
   "outputs": [
    {
     "data": {
      "text/plain": [
       "numpy.ndarray"
      ]
     },
     "execution_count": 33,
     "metadata": {},
     "output_type": "execute_result"
    }
   ],
   "source": [
    "#Do the Normalizations:\n",
    "#It would scale the numerica valie between (0-1)\n",
    "from sklearn.preprocessing import MinMaxScaler\n",
    "norm = MinMaxScaler()\n",
    "X = norm.fit_transform(X)\n",
    "type(X)"
   ]
  },
  {
   "cell_type": "code",
   "execution_count": 34,
   "metadata": {},
   "outputs": [],
   "source": [
    "#ALways make a practice to check the X and Y before splitting the data:\n"
   ]
  },
  {
   "cell_type": "code",
   "execution_count": 35,
   "metadata": {},
   "outputs": [],
   "source": [
    "#DO the train_test_split:\n",
    "from sklearn.model_selection import train_test_split\n",
    "X_train,X_test,y_train,y_test = train_test_split(X,y,test_size=0.25,random_state =100)"
   ]
  },
  {
   "cell_type": "code",
   "execution_count": 36,
   "metadata": {},
   "outputs": [
    {
     "data": {
      "text/plain": [
       "LinearRegression()"
      ]
     },
     "execution_count": 36,
     "metadata": {},
     "output_type": "execute_result"
    }
   ],
   "source": [
    "#Now again use the linear regression:\n",
    "from sklearn.linear_model import LinearRegression\n",
    "lr = LinearRegression()\n",
    "lr.fit(X_train,y_train)"
   ]
  },
  {
   "cell_type": "code",
   "execution_count": 37,
   "metadata": {},
   "outputs": [],
   "source": [
    "#Go for the Prediction on train and test:\n",
    "pred_train_norm = lr.predict(X_train)\n",
    "pred_test_norm = lr.predict(X_test)"
   ]
  },
  {
   "cell_type": "code",
   "execution_count": 38,
   "metadata": {},
   "outputs": [
    {
     "name": "stdout",
     "output_type": "stream",
     "text": [
      "[[ 1121.55824479]\n",
      " [ 1505.02328952]\n",
      " [ 4446.2048117 ]\n",
      " [ 2524.63940664]\n",
      " [ 1478.21934493]\n",
      " [  517.01497764]\n",
      " [  872.71215345]\n",
      " [ 1834.58238256]\n",
      " [ 1480.32752034]\n",
      " [ 1593.86782498]\n",
      " [ 1513.78662938]\n",
      " [ 1118.54656562]\n",
      " [ 1148.6633573 ]\n",
      " [ 1068.16643455]\n",
      " [13677.16871409]\n",
      " [ 3819.12261536]\n",
      " [ 3668.95845201]\n",
      " [ 1105.89751312]\n",
      " [  950.38121491]\n",
      " [ 2249.06098578]\n",
      " [ 1755.97755628]\n",
      " [ 1571.28023122]\n",
      " [ 3739.43641485]\n",
      " [ 2310.20480983]\n",
      " [ 1786.91276274]\n",
      " [ 1576.70125372]\n",
      " [ 1162.21591356]\n",
      " [ 1783.08266879]\n",
      " [ 1748.74952628]\n",
      " [ 1859.57931966]\n",
      " [ 1042.18379542]\n",
      " [ 1557.42650704]\n",
      " [ 1920.13838416]\n",
      " [ 2270.75181273]\n",
      " [ 2434.63292893]\n",
      " [ 4723.4222205 ]\n",
      " [ 1106.80101687]\n",
      " [ 2252.68173772]\n",
      " [ 1767.72310503]\n",
      " [ 3835.02268819]\n",
      " [ 2226.78129688]\n",
      " [ 1090.29720201]\n",
      " [ 1496.89175577]\n",
      " [ 1169.43720662]\n",
      " [ 2583.44550243]\n",
      " [ 2272.85998815]\n",
      " [ 2268.64363731]\n",
      " [ 1474.90649784]\n",
      " [ 1366.64056065]\n",
      " [ 1056.20480685]\n",
      " [ 2032.6825034 ]\n",
      " [ 1538.45292829]\n",
      " [ 6980.96561071]\n",
      " [ 3009.67639134]\n",
      " [ 4316.19047419]\n",
      " [ 2219.42707876]\n",
      " [ 1586.33862706]\n",
      " [ 2562.04784604]\n",
      " [ 2207.20538229]\n",
      " [ 1955.5835167 ]\n",
      " [ 1127.88277105]\n",
      " [ 1582.42344414]\n",
      " [ 1848.91225446]\n",
      " [ 2263.22261481]\n",
      " [ 8646.37088235]\n",
      " [ 1546.88562996]\n",
      " [ 5127.38749069]\n",
      " [ 1814.70530005]\n",
      " [ 9642.2595549 ]\n",
      " [ 1950.21738872]\n",
      " [ 1587.54329872]\n",
      " [ 1486.35087868]\n",
      " [ 3353.57708503]\n",
      " [ 1270.43796081]\n",
      " [ 1135.28578085]\n",
      " [ 4447.50936303]\n",
      " [ 1052.59079185]\n",
      " [ 1551.70431662]\n",
      " [ 1574.89424622]\n",
      " [ 7819.7139121 ]\n",
      " [ 1548.03766979]\n",
      " [ 2555.43688617]\n",
      " [ 6776.79686463]\n",
      " [ 7420.30939017]\n",
      " [ 2653.03960443]\n",
      " [ 2892.52207171]\n",
      " [ 6743.26548085]\n",
      " [ 5887.82502578]\n",
      " [ 2306.28962691]\n",
      " [ 2476.83205988]\n",
      " [ 8739.65029613]\n",
      " [ 1574.29191038]\n",
      " [11240.01963396]\n",
      " [ 1764.41025795]\n",
      " [ 2063.58823959]\n",
      " [ 1499.60226702]\n",
      " [  958.27625227]\n",
      " [ 2235.84375302]\n",
      " [ 1384.42494289]\n",
      " [ 2407.30222472]\n",
      " [ 8892.04625383]\n",
      " [ 7550.8724513 ]\n",
      " [12303.37804667]\n",
      " [  761.51308518]\n",
      " [ 1479.42401659]\n",
      " [  296.66962998]\n",
      " [  932.29361313]\n",
      " [ 3986.95585641]\n",
      " [ 1112.97373101]\n",
      " [  823.3206151 ]\n",
      " [ 1827.35435256]\n",
      " [ 2170.49910365]\n",
      " [ 1810.48894922]\n",
      " [ 1384.54449393]\n",
      " [ 1546.28329412]\n",
      " [ 2187.02713186]\n",
      " [ 1495.98825202]\n",
      " [ 1717.46801655]\n",
      " [ 3563.71333932]\n",
      " [ 3050.51403172]\n",
      " [ 1772.84295962]\n",
      " [ 5430.40746463]\n",
      " [ 1578.50826122]\n",
      " [ 1099.27181895]\n",
      " [ 1403.40084161]\n",
      " [ 1038.13473184]\n",
      " [ 1073.97371394]\n",
      " [  613.86225786]\n",
      " [ 1156.19255522]\n",
      " [ 1580.77388966]\n",
      " [ 2220.45677062]\n",
      " [ 2523.62838708]\n",
      " [ 7952.79998639]\n",
      " [  138.96867848]\n",
      " [ 3936.7264422 ]\n",
      " [ 4850.44623345]\n",
      " [ 1634.08998832]\n",
      " [ 1536.04358495]\n",
      " [ 2570.49528201]\n",
      " [ 1754.77288461]\n",
      " [29183.56271963]\n",
      " [ 1756.27872419]\n",
      " [ 1757.78456378]\n",
      " [ 1588.14563456]\n",
      " [ 1994.90647941]\n",
      " [ 1161.91474564]\n",
      " [  927.19128532]\n",
      " [ 8883.2040444 ]\n",
      " [ 8887.60532239]\n",
      " [ 3000.94252176]\n",
      " [ 1500.50577077]\n",
      " [ 1573.99074247]\n",
      " [ 1134.2072973 ]\n",
      " [ 1482.13452784]\n",
      " [ 1026.40904381]\n",
      " [ 1790.00953088]\n",
      " [ 1545.07862245]\n",
      " [ 4512.36019021]\n",
      " [ 1700.21251005]\n",
      " [ 3009.07405551]\n",
      " [ 2258.70509606]\n",
      " [ 1822.83683381]\n",
      " [ 3405.02309649]\n",
      " [ 1162.51708148]\n",
      " [ 2217.74625937]\n",
      " [ 1170.48631977]\n",
      " [ 1405.32508019]\n",
      " [ 1448.10639952]\n",
      " [ 2195.76100145]\n",
      " [ 1239.90045017]\n",
      " [ 1768.02427295]\n",
      " [ 1549.89730912]\n",
      " [ 1373.97300104]\n",
      " [  643.97904954]\n",
      " [ 1813.50062839]\n",
      " [ 4708.86087569]\n",
      " [ 1592.36198539]\n",
      " [ 2413.04194192]\n",
      " [  163.38208116]\n",
      " [ 1042.65225059]\n",
      " [ 4009.68048652]\n",
      " [ 1443.39264856]\n",
      " [ 1873.13187591]\n",
      " [ 2467.19468655]\n",
      " [ 2308.09663441]\n",
      " [  430.51936495]\n",
      " [ 1081.20174394]\n",
      " [ 2188.53297144]\n",
      " [ 1165.22759273]\n",
      " [ 3320.15823609]\n",
      " [ 1072.16670644]\n",
      " [ 1079.0974148 ]\n",
      " [ 1505.32445744]\n",
      " [ 1579.11059705]\n",
      " [ 1835.17798145]\n",
      " [ 2293.64057441]\n",
      " [ 1258.466399  ]\n",
      " [ 1487.55555035]\n",
      " [ 1484.8450391 ]\n",
      " [  211.87011576]\n",
      " [ 1536.9470887 ]\n",
      " [ 1446.44206946]\n",
      " [29726.88461248]\n",
      " [ 1142.94116689]\n",
      " [ 1045.36276184]\n",
      " [ 1476.71350534]\n",
      " [ 1331.35498635]\n",
      " [ 6924.78781119]\n",
      " [11827.47223002]\n",
      " [ 7700.75849787]\n",
      " [ 1579.41176497]\n",
      " [ 1030.26711313]\n",
      " [ 1567.96738413]\n",
      " [ 5812.9837399 ]\n",
      " [13028.64837971]\n",
      " [ 2927.15638214]\n",
      " [  535.29353892]\n",
      " [ 1909.3754906 ]\n",
      " [ 6895.4209165 ]\n",
      " [ 1343.88183336]\n",
      " [ 2998.83434634]\n",
      " [ 1562.54636163]\n",
      " [ 2253.28407356]\n",
      " [ 2291.23123107]\n",
      " [ 1539.35643204]\n",
      " [  845.60704094]\n",
      " [ 1740.59826643]\n",
      " [ 1607.74896779]\n",
      " [ 1589.95264206]\n",
      " [ 9555.93892201]\n",
      " [ 1994.68251799]\n",
      " [ 1139.93333399]\n",
      " [ 1099.57298687]\n",
      " [ 2646.77297723]\n",
      " [   88.80934091]\n",
      " [ 3581.1319902 ]\n",
      " [ 1549.59614121]\n",
      " [ 1040.84524309]\n",
      " [ 1536.34475287]\n",
      " [ 7300.71768059]\n",
      " [ 1555.92066746]\n",
      " [ 1155.28905147]\n",
      " [ 1098.3683152 ]\n",
      " [ 1841.50924465]\n",
      " [ 1152.57854022]\n",
      " [ 7380.4011141 ]\n",
      " [ 1398.3982181 ]\n",
      " [ 6703.15453978]\n",
      " [ 1108.60802437]\n",
      " [ 1539.05526412]\n",
      " [ 2170.80027157]\n",
      " [ 2253.14035867]\n",
      " [ 3325.86289974]\n",
      " [ 1838.49756548]\n",
      " [ 1042.78613125]\n",
      " [ 1499.90343494]\n",
      " [ 4799.20169207]\n",
      " [ 2257.50042439]\n",
      " [ 5438.19343684]\n",
      " [ 1592.06081748]\n",
      " [ 1642.17603735]\n",
      " [ 1535.44124912]\n",
      " [ 1874.6377155 ]\n",
      " [ 1586.94096289]\n",
      " [ 2261.41560731]\n",
      " [ 1153.18087606]\n",
      " [ 1868.91552508]\n",
      " [ 5935.22186248]\n",
      " [ 1571.58139913]\n",
      " [ 1476.41233742]\n",
      " [ 1594.47016081]\n",
      " [ 2268.3424694 ]\n",
      " [ 1392.21920583]\n",
      " [ 6438.95599707]\n",
      " [10998.03679578]\n",
      " [ 3625.71283103]\n",
      " [ 4598.78962577]\n",
      " [ 2988.59463717]\n",
      " [ 1569.77439163]\n",
      " [ 1078.49123269]\n",
      " [ 2209.01238979]\n",
      " [ 1105.81242415]\n",
      " [ 3115.46204482]\n",
      " [ 1560.43818621]\n",
      " [ 7907.99880945]\n",
      " [ 1063.13166893]\n",
      " [ 1232.7869794 ]\n",
      " [ 6787.11502569]\n",
      " [ 2223.46844979]\n",
      " [ 1567.06388038]\n",
      " [ 2204.49487103]\n",
      " [ 3877.07015283]\n",
      " [ 4602.52689674]\n",
      " [ 6707.57947308]\n",
      " [ 5837.09878138]\n",
      " [ 5384.34735393]\n",
      " [ 1040.54407517]\n",
      " [ 3235.25420107]\n",
      " [ 4801.51468129]\n",
      " [ 1155.59021939]\n",
      " [ 3354.17942086]\n",
      " [ 5920.22112641]\n",
      " [ 5142.24640792]\n",
      " [ 1126.67809938]\n",
      " [ 2206.60304645]\n",
      " [ 2549.71469575]\n",
      " [ 1815.00646797]\n",
      " [ 1176.25634628]\n",
      " [ 1502.33859833]\n",
      " [ 4352.60232185]\n",
      " [ 3419.01242456]\n",
      " [ 2399.50111441]\n",
      " [ 1474.30416201]\n",
      " [ 1062.5293331 ]\n",
      " [ 1511.34781577]\n",
      " [ 1551.10198079]\n",
      " [ 2849.48452988]\n",
      " [ 1101.9823302 ]\n",
      " [ 2286.88484585]\n",
      " [ 2339.45853724]\n",
      " [ 1065.84218018]\n",
      " [ 1865.90384591]\n",
      " [  939.00150559]\n",
      " [ 4243.11108524]\n",
      " [ 4695.13324344]\n",
      " [ 1111.92087145]\n",
      " [ 1373.88386974]\n",
      " [ 2251.47706605]\n",
      " [ 1240.20161809]\n",
      " [ 1129.38861063]\n",
      " [ 6711.35468751]\n",
      " [ 1840.00725134]\n",
      " [ 1582.12227622]\n",
      " [ 1037.83356392]\n",
      " [ 1053.79546351]\n",
      " [ 3118.59735978]\n",
      " [ 1496.70899336]\n",
      " [ 1592.66315331]\n",
      " [ 1833.98004673]\n",
      " [ 1113.72787896]\n",
      " [ 1580.31526872]\n",
      " [ 1071.26320269]\n",
      " [ 1772.24062379]\n",
      " [ 1505.62562535]\n",
      " [ 1270.26682727]\n",
      " [ 2286.11137649]\n",
      " [ 2216.24041979]\n",
      " [ 1161.61357773]\n",
      " [ 1594.77132873]\n",
      " [ 1578.06337841]\n",
      " [ 2645.03435866]\n",
      " [ 4377.11985934]\n",
      " [ 1532.45698859]\n",
      " [ 7167.30806995]\n",
      " [ 1118.84773354]\n",
      " [ 2573.07575887]\n",
      " [ 1037.53239601]\n",
      " [ 1825.24617714]\n",
      " [ 1535.1400812 ]\n",
      " [ 5526.93480476]\n",
      " [ 1949.91622081]\n",
      " [ 9937.34682903]\n",
      " [ 4378.62569892]\n",
      " [ 1080.59940811]\n",
      " [ 1055.90363893]\n",
      " [ 3647.107382  ]\n",
      " [ 1503.81861785]\n",
      " [  782.36177841]\n",
      " [ 1598.98767956]\n",
      " [ 1995.20764733]\n",
      " [  804.34703634]\n",
      " [ 6067.47490256]\n",
      " [ 2522.91075115]\n",
      " [ 1386.38760877]] [[ 1006.25088628]\n",
      " [ 7084.56532246]\n",
      " [ 1045.66392976]\n",
      " [ 3912.90107497]\n",
      " [ 2156.04679005]\n",
      " [ 1841.84351436]\n",
      " [14749.69211227]\n",
      " [ 1132.09912188]\n",
      " [ 3468.06698436]\n",
      " [ 1149.86802897]\n",
      " [ 1142.63999897]\n",
      " [ 3969.44229131]\n",
      " [ 1144.74817439]\n",
      " [ 2985.92327331]\n",
      " [ 1563.44986538]\n",
      " [  830.84981302]\n",
      " [ 1784.58850837]\n",
      " [ 2255.39224897]\n",
      " [ 1574.5930783 ]\n",
      " [ 1080.90057602]\n",
      " [ 1577.60475747]\n",
      " [ 1941.23134953]\n",
      " [ 1233.25928085]\n",
      " [ 2964.80237174]\n",
      " [ 1561.64285788]\n",
      " [  767.30338257]\n",
      " [ 2301.77210816]\n",
      " [ 2075.02887403]\n",
      " [ 2382.47163597]\n",
      " [ 5327.98409546]\n",
      " [ 2280.08801815]\n",
      " [ 3828.81615587]\n",
      " [ 1541.76577537]\n",
      " [  792.30031967]\n",
      " [ 1462.59482047]\n",
      " [ 1080.29824019]\n",
      " [ 1495.6870841 ]\n",
      " [ 1571.88256705]\n",
      " [ 2070.45852738]\n",
      " [ 3626.14403333]\n",
      " [ 1151.37386856]\n",
      " [12596.18791691]\n",
      " [ 1824.94500922]\n",
      " [ 2905.47229213]\n",
      " [ 1135.11080105]\n",
      " [ 4996.7819429 ]\n",
      " [ 1048.37444101]\n",
      " [ 4608.37527527]\n",
      " [  791.39681592]\n",
      " [ 4117.86849306]\n",
      " [ 1670.92875257]\n",
      " [ 1556.22183538]\n",
      " [ 3633.55482574]\n",
      " [16209.44089941]\n",
      " [ 3535.67586218]\n",
      " [ 1827.05318464]\n",
      " [ 1098.97065103]\n",
      " [ 1390.87930746]\n",
      " [ 2216.84275562]\n",
      " [ 1494.18124452]\n",
      " [ 1830.72762021]\n",
      " [ -218.58279414]\n",
      " [ 2572.00112159]\n",
      " [ 1130.89445021]\n",
      " [ 4307.19854154]\n",
      " [  851.61671877]\n",
      " [ 1169.3294842 ]\n",
      " [ 1509.54080827]\n",
      " [ 1542.3681112 ]\n",
      " [ 1840.30457298]\n",
      " [ 5682.8879337 ]\n",
      " [ 1491.77190118]\n",
      " [ 1073.3713781 ]\n",
      " [ 2787.26781369]\n",
      " [ 5493.94915233]\n",
      " [ 1110.71619979]\n",
      " [ 3184.73634307]\n",
      " [ 2220.15560271]\n",
      " [ 4112.01899378]\n",
      " [ 1494.78358035]\n",
      " [  521.98567248]\n",
      " [ 6231.97117937]\n",
      " [ 2205.09720687]\n",
      " [ 6687.95232917]\n",
      " [ 1122.46174854]\n",
      " [ 2651.49471733]\n",
      " [ 1487.84508939]\n",
      " [ 2088.09740009]\n",
      " [ 4731.0328157 ]\n",
      " [ 1483.94153534]\n",
      " [ 2553.93104658]\n",
      " [ 1475.50883367]\n",
      " [ 1049.27794476]\n",
      " [ 1060.11998977]\n",
      " [ 1590.25380997]\n",
      " [ 1102.28349812]\n",
      " [ 1141.73649522]\n",
      " [ 1141.13415938]\n",
      " [ 3942.45626876]\n",
      " [ 1504.7221216 ]\n",
      " [ 4720.09383811]\n",
      " [ 1488.4590541 ]\n",
      " [ 9032.11042028]\n",
      " [ 3399.09953141]\n",
      " [ 8194.4124385 ]\n",
      " [ 1589.35030622]\n",
      " [  430.21819703]\n",
      " [ 2685.68029869]\n",
      " [ 1504.11978577]\n",
      " [ 4920.48800219]\n",
      " [ 4635.65152132]\n",
      " [ 1051.98845601]\n",
      " [ 2858.17730032]\n",
      " [ 1254.73612999]\n",
      " [ 5063.60048249]\n",
      " [ 2199.37501645]\n",
      " [ 1538.57622573]\n",
      " [ 2418.00723827]\n",
      " [ 1135.89984543]\n",
      " [ 1542.97044704]\n",
      " [ 1248.61884461]\n",
      " [ 3969.74345923]\n",
      " [ 1164.02292106]\n",
      " [ 1475.20766576]\n",
      " [ 1112.52320729]]\n"
     ]
    }
   ],
   "source": [
    "print(pred_train_norm,pred_test_norm)"
   ]
  },
  {
   "cell_type": "code",
   "execution_count": 39,
   "metadata": {},
   "outputs": [
    {
     "name": "stdout",
     "output_type": "stream",
     "text": [
      "873.6358615294118\n",
      "1212.3070559418243\n"
     ]
    }
   ],
   "source": [
    "#Check the result:\n",
    "#Mean Absolute Error:\n",
    "print(mean_absolute_error(y_train,pred_train_norm))\n",
    "print(mean_absolute_error(y_test,pred_test_norm))"
   ]
  },
  {
   "cell_type": "code",
   "execution_count": 40,
   "metadata": {},
   "outputs": [
    {
     "name": "stdout",
     "output_type": "stream",
     "text": [
      "Mean Sqaured Error After Normalizations:\n",
      "3081192.173595695\n",
      "18011965.049535703\n"
     ]
    }
   ],
   "source": [
    "#Check the result:\n",
    "#Mean Sqaured Error:\n",
    "print(\"Mean Sqaured Error After Normalizations:\")\n",
    "print(mean_squared_error(y_train,pred_train_norm))\n",
    "print(mean_squared_error(y_test,pred_test_norm))"
   ]
  },
  {
   "cell_type": "code",
   "execution_count": 41,
   "metadata": {},
   "outputs": [],
   "source": [
    "#Go for the Standardization:\n",
    "from sklearn.preprocessing import StandardScaler\n",
    "std = StandardScaler()\n",
    "X_std = std.fit_transform(X)     "
   ]
  },
  {
   "cell_type": "code",
   "execution_count": 42,
   "metadata": {},
   "outputs": [
    {
     "data": {
      "text/plain": [
       "array([[-1.72655146,  1.71382949,  0.97819361, -0.24668147, -0.15198702,\n",
       "        -0.31580792],\n",
       "       [-1.71962994,  1.71382949, -1.02229251, -0.24668147, -0.15198702,\n",
       "         0.7665591 ],\n",
       "       [-1.71270842,  1.71382949,  0.97819361,  1.23996167, -0.15198702,\n",
       "         1.75919622],\n",
       "       ...,\n",
       "       [ 1.71344357, -0.73371522,  0.97819361, -0.24668147, -0.15198702,\n",
       "         0.13284162],\n",
       "       [ 1.72036509, -0.73371522,  0.97819361, -0.24668147, -0.15198702,\n",
       "         0.13284162],\n",
       "       [ 1.72728661, -0.73371522, -1.02229251,  0.34797579, -0.15198702,\n",
       "         0.13284162]])"
      ]
     },
     "execution_count": 42,
     "metadata": {},
     "output_type": "execute_result"
    }
   ],
   "source": [
    "X_std"
   ]
  },
  {
   "cell_type": "code",
   "execution_count": 43,
   "metadata": {},
   "outputs": [],
   "source": [
    "#Do the train_test_split:\n",
    "from sklearn.model_selection import train_test_split\n",
    "X_train,X_test,y_train,y_test = train_test_split(X_std,y,test_size=0.25,random_state =100)"
   ]
  },
  {
   "cell_type": "code",
   "execution_count": 44,
   "metadata": {},
   "outputs": [
    {
     "data": {
      "text/plain": [
       "LinearRegression()"
      ]
     },
     "execution_count": 44,
     "metadata": {},
     "output_type": "execute_result"
    }
   ],
   "source": [
    "#Now again use the linear regression:\n",
    "from sklearn.linear_model import LinearRegression\n",
    "lr = LinearRegression()\n",
    "lr.fit(X_train,y_train)"
   ]
  },
  {
   "cell_type": "code",
   "execution_count": 45,
   "metadata": {},
   "outputs": [],
   "source": [
    "#Go for the Prediction on train and test:\n",
    "pred_train_std = lr.predict(X_train)\n",
    "pred_test_std = lr.predict(X_test)"
   ]
  },
  {
   "cell_type": "code",
   "execution_count": 46,
   "metadata": {},
   "outputs": [
    {
     "name": "stdout",
     "output_type": "stream",
     "text": [
      "After Standardizations,Mean Absolute Error:\n",
      "873.6358615294047\n",
      "1212.3070559418188\n"
     ]
    }
   ],
   "source": [
    "#Check the result:\n",
    "#Mean Absolute Error:\n",
    "print(\"After Standardizations,Mean Absolute Error:\")\n",
    "print(mean_absolute_error(y_train,pred_train_std))\n",
    "print(mean_absolute_error(y_test,pred_test_std))"
   ]
  },
  {
   "cell_type": "code",
   "execution_count": 47,
   "metadata": {},
   "outputs": [
    {
     "name": "stdout",
     "output_type": "stream",
     "text": [
      "After Standardizations;Mean Sqaured Error:\n",
      "3081192.173595695\n",
      "18011965.049535718\n"
     ]
    }
   ],
   "source": [
    "#Check the result:\n",
    "#Mean Squared Error:\n",
    "print(\"After Standardizations;Mean Sqaured Error:\")\n",
    "print(mean_squared_error(y_train,pred_train_std))\n",
    "print(mean_squared_error(y_test,pred_test_std))"
   ]
  },
  {
   "cell_type": "code",
   "execution_count": 48,
   "metadata": {},
   "outputs": [
    {
     "data": {
      "application/javascript": [
       "\n",
       "        if (window._pyforest_update_imports_cell) { window._pyforest_update_imports_cell('import pandas as pd\\nimport numpy as np'); }\n",
       "    "
      ],
      "text/plain": [
       "<IPython.core.display.Javascript object>"
      ]
     },
     "metadata": {},
     "output_type": "display_data"
    },
    {
     "data": {
      "text/html": [
       "<div>\n",
       "<style scoped>\n",
       "    .dataframe tbody tr th:only-of-type {\n",
       "        vertical-align: middle;\n",
       "    }\n",
       "\n",
       "    .dataframe tbody tr th {\n",
       "        vertical-align: top;\n",
       "    }\n",
       "\n",
       "    .dataframe thead th {\n",
       "        text-align: right;\n",
       "    }\n",
       "</style>\n",
       "<table border=\"1\" class=\"dataframe\">\n",
       "  <thead>\n",
       "    <tr style=\"text-align: right;\">\n",
       "      <th></th>\n",
       "      <th>Reg</th>\n",
       "      <th>Name</th>\n",
       "    </tr>\n",
       "  </thead>\n",
       "  <tbody>\n",
       "    <tr>\n",
       "      <th>0</th>\n",
       "      <td>Train</td>\n",
       "      <td>V</td>\n",
       "    </tr>\n",
       "    <tr>\n",
       "      <th>1</th>\n",
       "      <td>Test</td>\n",
       "      <td>K</td>\n",
       "    </tr>\n",
       "  </tbody>\n",
       "</table>\n",
       "</div>"
      ],
      "text/plain": [
       "     Reg Name\n",
       "0  Train    V\n",
       "1   Test    K"
      ]
     },
     "execution_count": 48,
     "metadata": {},
     "output_type": "execute_result"
    }
   ],
   "source": [
    "#Make a DataFrame:\n",
    "A = pd.DataFrame({\"Reg\":[\"Train\",\"Test\"],\"Name\":[\"V\",\"K\"]})\n",
    "A"
   ]
  },
  {
   "cell_type": "code",
   "execution_count": 49,
   "metadata": {},
   "outputs": [
    {
     "data": {
      "text/plain": [
       "{'Train_mae': [873.6358615294118], 'Test_mae': [1212.3070559418243]}"
      ]
     },
     "execution_count": 49,
     "metadata": {},
     "output_type": "execute_result"
    }
   ],
   "source": [
    "{\"Train_mae\":[873.6358615294118,],\"Test_mae\":[1212.3070559418243]}"
   ]
  },
  {
   "cell_type": "code",
   "execution_count": 50,
   "metadata": {},
   "outputs": [
    {
     "data": {
      "application/javascript": [
       "\n",
       "        if (window._pyforest_update_imports_cell) { window._pyforest_update_imports_cell('import pandas as pd\\nimport numpy as np'); }\n",
       "    "
      ],
      "text/plain": [
       "<IPython.core.display.Javascript object>"
      ]
     },
     "metadata": {},
     "output_type": "display_data"
    }
   ],
   "source": [
    "Result = pd.DataFrame({\"Train_mae\":[873.6358615294118,873.6358615294118,873.6358615294048],\"Test_mae\":[1212.3070559418243,1212.3070559418243,1212.3070559418193],\"Train_Sqr_err\":[3081192.173595695,3081192.173595695,3081192.1735956934],\"Test_Sqr_error\":[18011965.049535684,18011965.049535703,18011965.049535718]})"
   ]
  },
  {
   "cell_type": "code",
   "execution_count": 51,
   "metadata": {},
   "outputs": [],
   "source": [
    "#Put the Index Name:\n",
    "Result.index = ['Original','After_Norm',\"After_Std\"]"
   ]
  },
  {
   "cell_type": "code",
   "execution_count": 52,
   "metadata": {},
   "outputs": [
    {
     "data": {
      "text/html": [
       "<div>\n",
       "<style scoped>\n",
       "    .dataframe tbody tr th:only-of-type {\n",
       "        vertical-align: middle;\n",
       "    }\n",
       "\n",
       "    .dataframe tbody tr th {\n",
       "        vertical-align: top;\n",
       "    }\n",
       "\n",
       "    .dataframe thead th {\n",
       "        text-align: right;\n",
       "    }\n",
       "</style>\n",
       "<table border=\"1\" class=\"dataframe\">\n",
       "  <thead>\n",
       "    <tr style=\"text-align: right;\">\n",
       "      <th></th>\n",
       "      <th>Train_mae</th>\n",
       "      <th>Test_mae</th>\n",
       "      <th>Train_Sqr_err</th>\n",
       "      <th>Test_Sqr_error</th>\n",
       "    </tr>\n",
       "  </thead>\n",
       "  <tbody>\n",
       "    <tr>\n",
       "      <th>Original</th>\n",
       "      <td>873.635862</td>\n",
       "      <td>1212.307056</td>\n",
       "      <td>3.081192e+06</td>\n",
       "      <td>1.801197e+07</td>\n",
       "    </tr>\n",
       "    <tr>\n",
       "      <th>After_Norm</th>\n",
       "      <td>873.635862</td>\n",
       "      <td>1212.307056</td>\n",
       "      <td>3.081192e+06</td>\n",
       "      <td>1.801197e+07</td>\n",
       "    </tr>\n",
       "    <tr>\n",
       "      <th>After_Std</th>\n",
       "      <td>873.635862</td>\n",
       "      <td>1212.307056</td>\n",
       "      <td>3.081192e+06</td>\n",
       "      <td>1.801197e+07</td>\n",
       "    </tr>\n",
       "  </tbody>\n",
       "</table>\n",
       "</div>"
      ],
      "text/plain": [
       "             Train_mae     Test_mae  Train_Sqr_err  Test_Sqr_error\n",
       "Original    873.635862  1212.307056   3.081192e+06    1.801197e+07\n",
       "After_Norm  873.635862  1212.307056   3.081192e+06    1.801197e+07\n",
       "After_Std   873.635862  1212.307056   3.081192e+06    1.801197e+07"
      ]
     },
     "execution_count": 52,
     "metadata": {},
     "output_type": "execute_result"
    }
   ],
   "source": [
    "Result"
   ]
  },
  {
   "cell_type": "code",
   "execution_count": 53,
   "metadata": {},
   "outputs": [],
   "source": [
    "Result.columns = [\"Train_MAE\",\"Test_MAE\",\"TRAIN_SQR_Error\",\"TEST_Square_Error\"]"
   ]
  },
  {
   "cell_type": "code",
   "execution_count": 54,
   "metadata": {},
   "outputs": [],
   "source": [
    "#Result are almost same.\n",
    "#Now we would build the different model:"
   ]
  },
  {
   "cell_type": "code",
   "execution_count": 55,
   "metadata": {},
   "outputs": [
    {
     "data": {
      "text/plain": [
       "DecisionTreeRegressor()"
      ]
     },
     "execution_count": 55,
     "metadata": {},
     "output_type": "execute_result"
    }
   ],
   "source": [
    "#Build the Decision Tree Classification:\n",
    "from sklearn.tree import DecisionTreeRegressor\n",
    "Dt = DecisionTreeRegressor()\n",
    "#Build the model(Learn the model):\n",
    "Dt.fit(X_train,y_train)"
   ]
  },
  {
   "cell_type": "code",
   "execution_count": 56,
   "metadata": {},
   "outputs": [],
   "source": [
    "#Predict on X_train and X_test:\n",
    "pred_train_dt = Dt.predict(X_train)\n",
    "pred_test_dt =  Dt.predict(X_test)"
   ]
  },
  {
   "cell_type": "code",
   "execution_count": 57,
   "metadata": {},
   "outputs": [],
   "source": [
    "#Check the metrics:\n",
    "from sklearn.metrics import mean_absolute_error,mean_squared_error"
   ]
  },
  {
   "cell_type": "code",
   "execution_count": 58,
   "metadata": {},
   "outputs": [
    {
     "name": "stdout",
     "output_type": "stream",
     "text": [
      "Mean_absolute_error:\n",
      "Decision tree model gives mean absolute error on y_train:0.0\n",
      "Decision tree model gives mean_absolute_error on y_test:1056.68\n"
     ]
    }
   ],
   "source": [
    "#Mean_Absolute_error:\n",
    "print(\"Mean_absolute_error:\")\n",
    "print(\"Decision tree model gives mean absolute error on y_train:{}\".format(mean_absolute_error(y_train,pred_train_dt)))\n",
    "print(\"Decision tree model gives mean_absolute_error on y_test:{}\".format(mean_absolute_error(y_test,pred_test_dt)))"
   ]
  },
  {
   "cell_type": "code",
   "execution_count": 59,
   "metadata": {},
   "outputs": [
    {
     "name": "stdout",
     "output_type": "stream",
     "text": [
      "Mean_Sqaured_error on train and test:\n",
      "Mean Sqaured Error on y_train0.0:\n",
      "Mean Sqaured Error on y_train17974907.96:\n"
     ]
    }
   ],
   "source": [
    "#Mean Sqaured Error:\n",
    "print(\"Mean_Sqaured_error on train and test:\")\n",
    "print(\"Mean Sqaured Error on y_train{}:\".format(mean_squared_error(y_train,pred_train_dt)))\n",
    "print(\"Mean Sqaured Error on y_train{}:\".format(mean_squared_error(y_test,pred_test_dt)))"
   ]
  },
  {
   "cell_type": "code",
   "execution_count": 60,
   "metadata": {},
   "outputs": [
    {
     "name": "stdout",
     "output_type": "stream",
     "text": [
      "<bound method BaseDecisionTree.get_depth of DecisionTreeRegressor()>\n"
     ]
    }
   ],
   "source": [
    "#Explore \n",
    "print(Dt.get_depth)"
   ]
  },
  {
   "cell_type": "code",
   "execution_count": 61,
   "metadata": {},
   "outputs": [],
   "source": [
    "#Now Normalized the values:\n",
    "#But we should not normalize the output values\n",
    "from sklearn.preprocessing import MinMaxScaler\n",
    "Norm = MinMaxScaler()\n",
    "X_norm = Norm.fit_transform(X)\n",
    "\n",
    "#Split the data into train and test:\n",
    "from sklearn.model_selection import train_test_split\n",
    "X_train,X_test,y_train,y_test = train_test_split(X_norm,y,test_size=0.25,random_state=10000)"
   ]
  },
  {
   "cell_type": "code",
   "execution_count": 62,
   "metadata": {},
   "outputs": [
    {
     "name": "stdout",
     "output_type": "stream",
     "text": [
      "Mean_absolute_error:\n",
      "Decision tree model gives mean absolute error on y_train:0.0\n",
      "Decision tree model gives mean_absolute_error on y_test:1276.896\n",
      "Mean_Sqaured_error on train and test:\n",
      "Mean Sqaured Error on y_train 25538739.13368984: \n",
      "Mean Sqaured Error on y_train 17889699.608: \n"
     ]
    }
   ],
   "source": [
    "#Build the Decision Tree regression and check the result:\n",
    "from sklearn.tree import DecisionTreeRegressor\n",
    "Dt = DecisionTreeRegressor()\n",
    "#Build the model(it actually learns):\n",
    "Dt.fit(X_train,y_train)\n",
    "#Predict on train and test:\n",
    "pred_train_dt_norm = Dt.predict(X_train)\n",
    "pred_test_dt_norm = Dt.predict(X_test)\n",
    "#Check the Result:\n",
    "#Mean_Absolute_error:\n",
    "print(\"Mean_absolute_error:\")\n",
    "print(\"Decision tree model gives mean absolute error on y_train:{}\".format(mean_absolute_error(y_train,pred_train_dt_norm)))\n",
    "print(\"Decision tree model gives mean_absolute_error on y_test:{}\".format(mean_absolute_error(y_test,pred_test_dt_norm)))\n",
    "#Mean Sqaured Error:\n",
    "print(\"Mean_Sqaured_error on train and test:\")\n",
    "print(\"Mean Sqaured Error on y_train {}: \".format(mean_squared_error(y_train,pred_train_dt)))\n",
    "print(\"Mean Sqaured Error on y_train {}: \".format(mean_squared_error(y_test,pred_test_dt)))"
   ]
  },
  {
   "cell_type": "code",
   "execution_count": 63,
   "metadata": {},
   "outputs": [
    {
     "name": "stdout",
     "output_type": "stream",
     "text": [
      "Mean_absolute_error:\n",
      "Decision tree model gives mean absolute error on y_train:0.0\n",
      "Decision tree model gives mean_absolute_error on y_test:959.776\n",
      "Mean_Sqaured_error on train and test:\n",
      "Mean Sqaured Error on y_train 0.0: \n",
      "Mean Sqaured Error on y_train 8975636.784: \n"
     ]
    }
   ],
   "source": [
    "#Now Standarized the values:\n",
    "#But we should not normalize the output values\n",
    "from sklearn.preprocessing import StandardScaler\n",
    "Std = StandardScaler()\n",
    "X_std = Std.fit_transform(X)\n",
    "\n",
    "#Split the data into train and test:\n",
    "from sklearn.model_selection import train_test_split\n",
    "X_train,X_test,y_train,y_test = train_test_split(X_std,y,test_size=0.25,random_state=100)\n",
    "#Build the Decision Tree regression and check the result:\n",
    "from sklearn.tree import DecisionTreeRegressor\n",
    "Dt = DecisionTreeRegressor()\n",
    "#Build the model(it actually learns):\n",
    "Dt.fit(X_train,y_train)\n",
    "#Predict on train and test:\n",
    "pred_train_dt_std = Dt.predict(X_train)\n",
    "pred_test_dt_std = Dt.predict(X_test)\n",
    "#Check the Result:\n",
    "#Mean_Absolute_error:\n",
    "print(\"Mean_absolute_error:\")\n",
    "print(\"Decision tree model gives mean absolute error on y_train:{}\".format(mean_absolute_error(y_train,pred_train_dt_std)))\n",
    "print(\"Decision tree model gives mean_absolute_error on y_test:{}\".format(mean_absolute_error(y_test,pred_test_dt_std)))\n",
    "#Mean Sqaured Error:\n",
    "print(\"Mean_Sqaured_error on train and test:\")\n",
    "print(\"Mean Sqaured Error on y_train {}: \".format(mean_squared_error(y_train,pred_train_dt_std)))\n",
    "print(\"Mean Sqaured Error on y_train {}: \".format(mean_squared_error(y_test,pred_test_dt_std)))"
   ]
  },
  {
   "cell_type": "code",
   "execution_count": 64,
   "metadata": {},
   "outputs": [],
   "source": [
    "##Observations: After Standardizations it reduces the result"
   ]
  },
  {
   "cell_type": "code",
   "execution_count": 65,
   "metadata": {},
   "outputs": [
    {
     "name": "stderr",
     "output_type": "stream",
     "text": [
      "C:\\Users\\HARIOHM\\anaconda3\\lib\\site-packages\\ipykernel_launcher.py:15: DataConversionWarning: A column-vector y was passed when a 1d array was expected. Please change the shape of y to (n_samples,), for example using ravel().\n",
      "  from ipykernel import kernelapp as app\n"
     ]
    },
    {
     "name": "stdout",
     "output_type": "stream",
     "text": [
      "Mean_absolute_error:\n",
      "Decision tree model gives mean absolute error on y_train:0.0\n",
      "Decision tree model gives mean_absolute_error on y_test:1276.896\n",
      "Mean_Sqaured_error on train and test:\n",
      "Mean Sqaured Error on y_train 25538739.13368984: \n",
      "Mean Sqaured Error on y_train 17889699.608: \n"
     ]
    }
   ],
   "source": [
    "#Build the Random Forest Regressor:\n",
    "from sklearn.ensemble import RandomForestRegressor\n",
    "RF = RandomForestRegressor()\n",
    "\n",
    "#But we should not normalize the output values\n",
    "from sklearn.preprocessing import StandardScaler\n",
    "Std = StandardScaler()\n",
    "X_std = Std.fit_transform(X)\n",
    "\n",
    "#Split the data into train and test:\n",
    "from sklearn.model_selection import train_test_split\n",
    "X_train,X_test,y_train,y_test = train_test_split(X_std,y,test_size=0.25,random_state=10000)\n",
    "\n",
    "#Build the Model:\n",
    "RF.fit(X_train,y_train)\n",
    "#Predict on train and test:\n",
    "pred_train_RF_norm = RF.predict(X_train)\n",
    "pred_test_RF_norm = RF.predict(X_test)\n",
    "\n",
    "#Check the Result:\n",
    "#Mean_Absolute_error:\n",
    "print(\"Mean_absolute_error:\")\n",
    "print(\"Decision tree model gives mean absolute error on y_train:{}\".format(mean_absolute_error(y_train,pred_train_dt_norm)))\n",
    "print(\"Decision tree model gives mean_absolute_error on y_test:{}\".format(mean_absolute_error(y_test,pred_test_dt_norm)))\n",
    "#Mean Sqaured Error:\n",
    "print(\"Mean_Sqaured_error on train and test:\")\n",
    "print(\"Mean Sqaured Error on y_train {}: \".format(mean_squared_error(y_train,pred_train_dt)))\n",
    "print(\"Mean Sqaured Error on y_train {}: \".format(mean_squared_error(y_test,pred_test_dt)))"
   ]
  },
  {
   "cell_type": "code",
   "execution_count": 66,
   "metadata": {},
   "outputs": [
    {
     "name": "stderr",
     "output_type": "stream",
     "text": [
      "C:\\Users\\HARIOHM\\anaconda3\\lib\\site-packages\\sklearn\\utils\\validation.py:73: DataConversionWarning: A column-vector y was passed when a 1d array was expected. Please change the shape of y to (n_samples, ), for example using ravel().\n",
      "  return f(**kwargs)\n"
     ]
    },
    {
     "name": "stdout",
     "output_type": "stream",
     "text": [
      "Mean Absolute Error:\n",
      "Mean Absolute Error by AdaR 1265.8745369265966\n",
      "Mean Absolute Error by AdaR 1435.113688575783\n",
      "Mean Squared Error:\n",
      "Mean Sqaured Error by AdaR 2515113.4423856037\n",
      "Mean Squared Error by AdaR 3278081.7362028146\n"
     ]
    }
   ],
   "source": [
    "#Build the Adaboost Regressor:\n",
    "from sklearn.ensemble import AdaBoostRegressor\n",
    "Ad = AdaBoostRegressor()\n",
    "\n",
    "#Build and learn the Model:\n",
    "Ad.fit(X_train,y_train)\n",
    "\n",
    "#Predict on X_train and X_test:\n",
    "pred_train_ad = Ad.predict(X_train)\n",
    "pred_test_ad = Ad.predict(X_test)\n",
    "\n",
    "#Check the metrics how my model performs:\n",
    "from sklearn.metrics import mean_absolute_error,mean_squared_error\n",
    "print(\"Mean Absolute Error:\")\n",
    "print(\"Mean Absolute Error by AdaR {}\".format(mean_absolute_error(y_train,pred_train_ad)))\n",
    "print(\"Mean Absolute Error by AdaR {}\".format(mean_absolute_error(y_test,pred_test_ad)))\n",
    "print(\"Mean Squared Error:\")\n",
    "print(\"Mean Sqaured Error by AdaR {}\".format(mean_squared_error(y_train,pred_train_ad)))\n",
    "print(\"Mean Squared Error by AdaR {}\".format(mean_squared_error(y_test,pred_test_ad)))"
   ]
  },
  {
   "cell_type": "code",
   "execution_count": 67,
   "metadata": {},
   "outputs": [
    {
     "name": "stdout",
     "output_type": "stream",
     "text": [
      "[17:49:06] WARNING: C:/Users/Administrator/workspace/xgboost-win64_release_1.2.0/src/objective/regression_obj.cu:174: reg:linear is now deprecated in favor of reg:squarederror.\n",
      "[17:49:06] WARNING: C:/Users/Administrator/workspace/xgboost-win64_release_1.2.0/src/objective/regression_obj.cu:174: reg:linear is now deprecated in favor of reg:squarederror.\n",
      "Mean Absolute Error:\n",
      "Mean Absolute Error by XGBR 1317.150113845254\n",
      "Mean Absolute Error by XGBR 1316.617451171875\n",
      "Mean Squared Error:\n",
      "Mean Sqaured Error by XGBR 12245539.199357854\n",
      "Mean Squared Error by XGBR 9357584.012039123\n"
     ]
    }
   ],
   "source": [
    "#Build the Xgboost Model:\n",
    "import xgboost as xgb\n",
    "#First Convert the data inot optimized DMatrix for the Xgboost model:\n",
    "data_DMatrix = xgb.DMatrix(X,y)  \n",
    "\n",
    "xg_reg = xgb.XGBRegressor(objective ='reg:linear', colsample_bytree = 0.3, learning_rate = 0.1,\n",
    "                max_depth = 5, alpha = 10, n_estimators = 10)\n",
    "#Build and learn the Model:\n",
    "xg_reg.fit(X_train,y_train)\n",
    "\n",
    "#Predict on X_train and X_test:\n",
    "pred_train_xgb = xg_reg.predict(X_train)\n",
    "pred_test_xgb = xg_reg.predict(X_test)\n",
    "\n",
    "#Check the metrics how my model performs:\n",
    "from sklearn.metrics import mean_absolute_error,mean_squared_error\n",
    "print(\"Mean Absolute Error:\")\n",
    "print(\"Mean Absolute Error by XGBR {}\".format(mean_absolute_error(y_train,pred_train_xgb)))\n",
    "print(\"Mean Absolute Error by XGBR {}\".format(mean_absolute_error(y_test,pred_test_xgb)))\n",
    "print(\"Mean Squared Error:\")\n",
    "print(\"Mean Sqaured Error by XGBR {}\".format(mean_squared_error(y_train,pred_train_xgb)))\n",
    "print(\"Mean Squared Error by XGBR {}\".format(mean_squared_error(y_test,pred_test_xgb)))"
   ]
  },
  {
   "cell_type": "code",
   "execution_count": 68,
   "metadata": {},
   "outputs": [
    {
     "name": "stdout",
     "output_type": "stream",
     "text": [
      "Mean Absolute Error:\n",
      "Mean Absolute Error by KNNR 709.8057040998217\n",
      "Mean Absolute Error by KNNR 847.0426666666667\n",
      "Mean Squared Error:\n",
      "Mean Sqaured Error by KNNR 4562831.724301842\n",
      "Mean Squared Error by KNNR 2995757.2186666667\n"
     ]
    }
   ],
   "source": [
    "#Build the KNN Regression:\n",
    "from sklearn.neighbors import KNeighborsRegressor\n",
    "KNNR = KNeighborsRegressor(n_neighbors = 3)\n",
    "#Build the Model:\n",
    "KNNR.fit(X_train,y_train)\n",
    "\n",
    "#Predict on X_train and X_test:\n",
    "pred_train_KNNR = KNNR.predict(X_train)\n",
    "pred_test_KNNR = KNNR.predict(X_test)\n",
    "\n",
    "#Check the metrics how my model performs:\n",
    "from sklearn.metrics import mean_absolute_error,mean_squared_error\n",
    "print(\"Mean Absolute Error:\")\n",
    "print(\"Mean Absolute Error by KNNR {}\".format(mean_absolute_error(y_train,pred_train_KNNR)))\n",
    "print(\"Mean Absolute Error by KNNR {}\".format(mean_absolute_error(y_test,pred_test_KNNR)))\n",
    "print(\"Mean Squared Error:\")\n",
    "print(\"Mean Sqaured Error by KNNR {}\".format(mean_squared_error(y_train,pred_train_KNNR)))\n",
    "print(\"Mean Squared Error by KNNR {}\".format(mean_squared_error(y_test,pred_test_KNNR)))\n",
    "\n"
   ]
  },
  {
   "cell_type": "code",
   "execution_count": 69,
   "metadata": {},
   "outputs": [
    {
     "name": "stdout",
     "output_type": "stream",
     "text": [
      "Mean Absolute Error:\n",
      "Mean Absolute Error by SVR 1628.7235179649122\n",
      "Mean Absolute Error by SVR 1575.08955497025\n",
      "Mean Squared Error:\n",
      "Mean Sqaured Error by SVR 17897029.31922541\n",
      "Mean Squared Error by SVR 12822840.268204015\n"
     ]
    },
    {
     "name": "stderr",
     "output_type": "stream",
     "text": [
      "C:\\Users\\HARIOHM\\anaconda3\\lib\\site-packages\\sklearn\\utils\\validation.py:73: DataConversionWarning: A column-vector y was passed when a 1d array was expected. Please change the shape of y to (n_samples, ), for example using ravel().\n",
      "  return f(**kwargs)\n"
     ]
    }
   ],
   "source": [
    "#Build the Support Vector Regressor:\n",
    "from sklearn.svm import SVR\n",
    "svm = SVR()\n",
    "#Build and learn the Model:\n",
    "svm.fit(X_train,y_train)\n",
    "\n",
    "\n",
    "\n",
    "#Predict on X_train and X_test:\n",
    "pred_train_SVR = svm.predict(X_train)\n",
    "pred_test_SVR = svm.predict(X_test)\n",
    "\n",
    "#Check the metrics how my model performs:\n",
    "from sklearn.metrics import mean_absolute_error,mean_squared_error\n",
    "print(\"Mean Absolute Error:\")\n",
    "print(\"Mean Absolute Error by SVR {}\".format(mean_absolute_error(y_train,pred_train_SVR)))\n",
    "print(\"Mean Absolute Error by SVR {}\".format(mean_absolute_error(y_test,pred_test_SVR)))\n",
    "print(\"Mean Squared Error:\")\n",
    "print(\"Mean Sqaured Error by SVR {}\".format(mean_squared_error(y_train,pred_train_SVR)))\n",
    "print(\"Mean Squared Error by SVR {}\".format(mean_squared_error(y_test,pred_test_SVR)))"
   ]
  },
  {
   "cell_type": "code",
   "execution_count": null,
   "metadata": {},
   "outputs": [],
   "source": []
  }
 ],
 "metadata": {
  "kernelspec": {
   "display_name": "Python 3",
   "language": "python",
   "name": "python3"
  },
  "language_info": {
   "codemirror_mode": {
    "name": "ipython",
    "version": 3
   },
   "file_extension": ".py",
   "mimetype": "text/x-python",
   "name": "python",
   "nbconvert_exporter": "python",
   "pygments_lexer": "ipython3",
   "version": "3.7.7"
  }
 },
 "nbformat": 4,
 "nbformat_minor": 4
}
